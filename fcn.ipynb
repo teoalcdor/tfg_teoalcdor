{
  "nbformat": 4,
  "nbformat_minor": 0,
  "metadata": {
    "colab": {
      "provenance": [],
      "machine_shape": "hm",
      "gpuType": "L4",
      "authorship_tag": "ABX9TyOZsinOaBS93V8tF1GoSrwC",
      "include_colab_link": true
    },
    "kernelspec": {
      "name": "python3",
      "display_name": "Python 3"
    },
    "language_info": {
      "name": "python"
    },
    "accelerator": "GPU"
  },
  "cells": [
    {
      "cell_type": "markdown",
      "metadata": {
        "id": "view-in-github",
        "colab_type": "text"
      },
      "source": [
        "<a href=\"https://colab.research.google.com/github/teoalcdor/tfg_teoalcdor/blob/main/fcn.ipynb\" target=\"_parent\"><img src=\"https://colab.research.google.com/assets/colab-badge.svg\" alt=\"Open In Colab\"/></a>"
      ]
    },
    {
      "cell_type": "markdown",
      "source": [
        "# FCN"
      ],
      "metadata": {
        "id": "zc_mdAFivcLx"
      }
    },
    {
      "cell_type": "markdown",
      "source": [
        "En este notebook vamos a utilizar una FCN para abordar el problema planteado en nuestro dataset de segmentación. Vamos a congelar la backbone y a entrenar de cero la cabeza."
      ],
      "metadata": {
        "id": "G67bSQOtve1q"
      }
    },
    {
      "cell_type": "markdown",
      "source": [
        "## Librerías"
      ],
      "metadata": {
        "id": "jzTKpHg95qQy"
      }
    },
    {
      "cell_type": "markdown",
      "source": [
        "Comenzamos cargando instalando las librerías necesarias:"
      ],
      "metadata": {
        "id": "yVw9p1Ke5pax"
      }
    },
    {
      "cell_type": "code",
      "execution_count": null,
      "metadata": {
        "colab": {
          "base_uri": "https://localhost:8080/"
        },
        "id": "D3ddj-hFGA_B",
        "outputId": "458274e1-8c1c-448a-d66a-6b2fb0e552ed"
      },
      "outputs": [
        {
          "output_type": "stream",
          "name": "stdout",
          "text": [
            "Collecting torchinfo\n",
            "  Downloading torchinfo-1.8.0-py3-none-any.whl.metadata (21 kB)\n",
            "Downloading torchinfo-1.8.0-py3-none-any.whl (23 kB)\n",
            "Installing collected packages: torchinfo\n",
            "Successfully installed torchinfo-1.8.0\n"
          ]
        }
      ],
      "source": [
        "!pip install torchinfo"
      ]
    },
    {
      "cell_type": "code",
      "source": [
        "import cv2\n",
        "from glob import glob\n",
        "from google.colab import drive\n",
        "import numpy as np\n",
        "from numpy import inf\n",
        "import matplotlib.pyplot as plt\n",
        "import os\n",
        "import pandas as pd\n",
        "import seaborn as sns\n",
        "from sklearn.metrics import confusion_matrix\n",
        "from sklearn.preprocessing import LabelEncoder\n",
        "import time\n",
        "import torch\n",
        "import torch.nn as nn\n",
        "import torch.nn.functional as F\n",
        "from torch.utils.data import Dataset, DataLoader\n",
        "from torchinfo import summary\n",
        "from torchvision import models, transforms\n",
        "from torchvision.models.segmentation.fcn import FCNHead\n",
        "from torchvision.ops import nms\n",
        "import tqdm\n",
        "import copy"
      ],
      "metadata": {
        "id": "n5y8odkHIRvG"
      },
      "execution_count": null,
      "outputs": []
    },
    {
      "cell_type": "code",
      "source": [
        "%matplotlib inline"
      ],
      "metadata": {
        "id": "A3nfdTpO01cp"
      },
      "execution_count": null,
      "outputs": []
    },
    {
      "cell_type": "markdown",
      "source": [
        "Tratamos de utilizar la GPU"
      ],
      "metadata": {
        "id": "tNhJfqMDwG5D"
      }
    },
    {
      "cell_type": "code",
      "source": [
        "DEVICE = \"cuda\" if torch.cuda.is_available() else \"cpu\"\n",
        "print(DEVICE)"
      ],
      "metadata": {
        "colab": {
          "base_uri": "https://localhost:8080/"
        },
        "id": "aFox62KpIeEs",
        "outputId": "617719ba-45ef-4b15-e18f-48c3cee8b408"
      },
      "execution_count": null,
      "outputs": [
        {
          "output_type": "stream",
          "name": "stdout",
          "text": [
            "cuda\n"
          ]
        }
      ]
    },
    {
      "cell_type": "markdown",
      "source": [
        "## Funciones Auxiliares"
      ],
      "metadata": {
        "id": "lXOyQ8Pc5sw7"
      }
    },
    {
      "cell_type": "markdown",
      "source": [
        "Definimos las funciones que vamos a utilizar para el entrenamiento y la representación de los resultados:"
      ],
      "metadata": {
        "id": "me81QGaqwJv8"
      }
    },
    {
      "cell_type": "code",
      "source": [
        "def segmentation_loss(preds, targets):\n",
        "    \"\"\"\n",
        "    Pérdida de entropía cruzada binaria y accuracy de segmentacion para un\n",
        "    batch.\n",
        "    \"\"\"\n",
        "    loss = nn.CrossEntropyLoss()(preds, targets)\n",
        "    accuracy = (torch.max(preds, 1)[1] == targets).float().mean()\n",
        "    return loss, accuracy\n",
        "\n",
        "\n",
        "def train_batch(model, data, optimizer, criterion):\n",
        "    \"\"\"\n",
        "    Entrena el modelo en un batch.\n",
        "    \"\"\"\n",
        "\n",
        "    model.train() # Modo entrenamiento\n",
        "\n",
        "    # Obtenemos la prediccion con propagacion hacia delante (logits)\n",
        "    ims, masks = data\n",
        "    _masks = model(ims)[\"out\"]\n",
        "\n",
        "    # Obtenemos la perdida\n",
        "    loss, accuracy = criterion(_masks, masks)\n",
        "\n",
        "    # Calculamos el gradiente de la perdida con retropropagacion\n",
        "    loss.backward()\n",
        "\n",
        "    # Hacemos un paso del metodo del gradiente\n",
        "    optimizer.step()\n",
        "\n",
        "    # Vaciamos el optimizador de la informacion del gradiente\n",
        "    optimizer.zero_grad()\n",
        "\n",
        "    return loss.item(), accuracy.item() # Retornamos el numero, no un tensor\n",
        "\n",
        "\n",
        "@torch.no_grad()\n",
        "def validate_batch(model, data, criterion):\n",
        "    \"\"\"\n",
        "    Calcula la pérdida del modelo en el conjunto de validación.\n",
        "    \"\"\"\n",
        "\n",
        "    model.eval() # Modo inferencia\n",
        "\n",
        "    # Obtenemos la prediccion con propagacion hacia delante (logits)\n",
        "    ims, masks = data\n",
        "    _masks = model(ims)[\"out\"]\n",
        "\n",
        "    # Obtenemos la perdida\n",
        "    loss, accuracy = criterion(_masks, masks)\n",
        "\n",
        "    return loss.item(), accuracy.item()\n",
        "\n",
        "\n",
        "def train_model(model, optimizer, train_dataloader, val_dataloader, criterion, epochs=10):\n",
        "    \"\"\"\n",
        "    Entrena el modelo, implementando un mecanismo que actúa como early stopping basado en\n",
        "    la accuracy en validación. Devuelve también las pérdida y accuracy encontradas en\n",
        "    los conjuntos de entrenamiento y valiación durante el entrenamiento.\n",
        "    \"\"\"\n",
        "\n",
        "    # Inicializamos las listas con las perdidas y accuracies\n",
        "    train_losses, train_accuracies = [], []\n",
        "    val_losses, val_accuracies = [], []\n",
        "\n",
        "    # Inicializamos el mecanismo de early stopping\n",
        "    best_model = {\n",
        "        \"model_state_dict\": None,\n",
        "        \"optimizer_state_dict\": None,\n",
        "        \"epoch\": None,\n",
        "        \"max_val_accuracy\": -1\n",
        "    }\n",
        "\n",
        "    for epoch in range(epochs):\n",
        "\n",
        "        # Regristramos el momento de comienzo de la epoch\n",
        "        year, month, day, h, m, s = map(lambda x : x.rjust(2, \"0\"),\n",
        "                                          time.strftime(\"%y %m %d %H %M %S\")\n",
        "                                          .split())\n",
        "        time_stamp = f\"{day}/{month}/{year} {h}:{m}:{s}\"\n",
        "        start = time.time()\n",
        "        print(\"=\" * 80)\n",
        "        print(f\"Epoch: {epoch + 1} - Started: {time_stamp}\")\n",
        "\n",
        "        # Inicializamos las listas con las perdidas y accuracies de la epoch\n",
        "        train_epoch_loss, val_epoch_loss = [], []\n",
        "        train_epoch_accuracy, val_epoch_accuracy = [], []\n",
        "\n",
        "        # Entrenamos el modelo con minibatch\n",
        "        _n = len(train_dataloader)\n",
        "        for _, inputs in tqdm.tqdm(enumerate(train_dataloader), total=_n, desc=\"- Training\"):\n",
        "            loss, accuracy = train_batch(model, inputs, optimizer, criterion)\n",
        "            train_epoch_loss.append(loss)\n",
        "            train_epoch_accuracy.append(accuracy)\n",
        "\n",
        "        # Calculamos la perdida y la accuracy sobre el conjunto de validacion\n",
        "        _n = len(val_dataloader)\n",
        "        for _, inputs in tqdm.tqdm(enumerate(val_dataloader), total=_n, desc=\"- Validation\"):\n",
        "            loss, accuracy = validate_batch(model, inputs, criterion)\n",
        "            val_epoch_loss.append(loss)\n",
        "            val_epoch_accuracy.append(accuracy)\n",
        "\n",
        "        # Actualizamos las perdidas y accuracies\n",
        "        train_losses.append(np.mean(train_epoch_loss))\n",
        "        train_accuracies.append(np.mean(train_epoch_accuracy))\n",
        "        val_losses.append(np.mean(val_epoch_loss))\n",
        "        val_accuracies.append(np.mean(val_epoch_accuracy))\n",
        "\n",
        "        # Ponemos en marcha el mecanismo de early stopping\n",
        "        if val_accuracies[-1] > best_model[\"max_val_accuracy\"]:\n",
        "            best_model[\"max_val_accuracy\"] = val_accuracies[-1]\n",
        "            best_model[\"model_state_dict\"] = copy.deepcopy(model.state_dict())\n",
        "            best_model[\"optimizer_state_dict\"] = copy.deepcopy(optimizer.state_dict())\n",
        "            best_model[\"epoch\"] = epoch + 1\n",
        "\n",
        "        # Regristramos el momento de comienzo de la epoch\n",
        "        end = time.time()\n",
        "        year, month, day, h, m, s = map(lambda x : x.rjust(2, \"0\"),\n",
        "                                        time.strftime(\"%y %m %d %H %M %S\")\n",
        "                                        .split())\n",
        "        time_stamp = f\"{day}/{month}/{year} {h}:{m}:{s}\"\n",
        "\n",
        "        print(f\"Epoch: {epoch + 1} - Ended: {time_stamp} - Duration: {round(end - start, 2)}s\")\n",
        "        print()\n",
        "\n",
        "        # Imprimimos estadisticas de la epoch para un mejor seguimiento\n",
        "        print(f\"Training Loss: {train_losses[-1]} - Validation Loss: {val_losses[-1]}\")\n",
        "        print(f\"Training Accuracy: {train_accuracies[-1]} - Validation Accuracy: {val_accuracies[-1]}\")\n",
        "        print(\"=\" * 80)\n",
        "        print()\n",
        "\n",
        "    return train_losses, train_accuracies, val_losses, val_accuracies, best_model\n",
        "\n",
        "\n",
        "def plot_training_results(train_losses, val_losses,\n",
        "                          train_accuracies, val_accuracies, title):\n",
        "    \"\"\"\n",
        "    Representa la pérdida y accuracy del modelo en el entrenamiento sobre\n",
        "    los conjuntos de entrenamiento y validación.\n",
        "    \"\"\"\n",
        "\n",
        "    # Diccionario con las perdidas\n",
        "    losses_results = pd.DataFrame(\n",
        "        {f\"Entrenamiento\": train_losses,\n",
        "         f\"Validación\": val_losses})\n",
        "\n",
        "    # Diccionario con las accuracies\n",
        "    accuracies_results = pd.DataFrame(\n",
        "        {f\"Entrenamiento\": train_accuracies,\n",
        "         f\"Validación\": val_accuracies})\n",
        "\n",
        "    with sns.axes_style(\"whitegrid\"):\n",
        "        fig, axs = plt.subplots(1, 2, figsize=(12, 4))\n",
        "\n",
        "        # Grafica de las perdidas\n",
        "        losses_results_plot = sns.lineplot(data=losses_results, ax = axs[0])\n",
        "        axs[0].set_ylabel(\"Pérdida\", fontsize=17)\n",
        "        axs[0].set_xlabel(\"Epochs\", fontsize=17)\n",
        "        axs[0].set_xticks([0, 4, 9, 14, 19, 24])\n",
        "        axs[0].set_xticklabels([1, 5, 10, 15, 20, 25], fontsize=12)\n",
        "        axs[0].tick_params(axis='y', labelsize=12)\n",
        "\n",
        "        # Grafica de las accuracies\n",
        "        accuracies_results_plot = sns.lineplot(data=accuracies_results, ax = axs[1])\n",
        "        axs[1].set_xticks([0, 4, 9, 14, 19, 24])\n",
        "        axs[1].set_xticklabels([1, 5, 10, 15, 20, 25], fontsize=12)\n",
        "        axs[1].set_ylabel(\"Accuracy\", fontsize=17)\n",
        "        axs[1].set_xlabel(\"Epochs\", fontsize=17)\n",
        "        axs[1].tick_params(axis='y', labelsize=12)\n",
        "\n",
        "        fig.suptitle(title, fontsize=20)\n",
        "        plt.tight_layout()\n",
        "        plt.show()\n",
        "\n",
        "\n",
        "def create_class_colors(num_classes, seed):\n",
        "    \"\"\"\n",
        "    Crea un diccionario con los colores de cada clase elegidos de forma\n",
        "    aleatoria.\n",
        "    \"\"\"\n",
        "\n",
        "    # Reproducibilidad\n",
        "    np.random.seed(seed)\n",
        "\n",
        "    # Inicializacion\n",
        "    class_colors = {}\n",
        "\n",
        "    # Para cada clase, creamos su color\n",
        "    for i in range(num_classes):\n",
        "\n",
        "        # Mientras no aceptemos el color creado para la clase, seguimos creando\n",
        "        # colores\n",
        "        not_accepted = True\n",
        "        while not_accepted:\n",
        "\n",
        "            # Elegimos el valor para cada canal\n",
        "            r = np.random.randint(0, 255)\n",
        "            g = np.random.randint(0, 255)\n",
        "            b = np.random.randint(0, 255)\n",
        "\n",
        "            # El color no debe ser muy gris\n",
        "            not_gray = abs(r - g) > 50 or abs(r - b) > 50 and abs(g - b) > 50\n",
        "\n",
        "            # El color no debe ser muy blanco\n",
        "            not_white = r < 230 and g < 230 and b < 230\n",
        "\n",
        "            # Si no es muy gris ni muy blanco, lo aceptamos\n",
        "            if not_gray and not_white :\n",
        "                not_accepted = False\n",
        "                class_colors[i] = (r, g, b)\n",
        "\n",
        "\n",
        "    # Creamos una matriz que nos permita mapear los colores a\n",
        "    mapping_matrix = np.zeros((num_classes + 1, 3), dtype=np.uint8)\n",
        "    for class_id, color in class_colors.items():\n",
        "        mapping_matrix[class_id] = color\n",
        "\n",
        "    return class_colors, mapping_matrix\n",
        "\n",
        "\n",
        "def color_mask(mask, mapping_matrix):\n",
        "    \"\"\"\n",
        "    Transforma una mascara de clases en una imagen coloreada de la mascara.\n",
        "    \"\"\"\n",
        "\n",
        "    colored_mask = mapping_matrix[mask]\n",
        "\n",
        "    return colored_mask\n",
        "\n",
        "\n",
        "@torch.no_grad()\n",
        "def measure_fps_fcn(model, dataset, dataloader):\n",
        "    \"\"\"\n",
        "    Estima los FPS a los que detecta FCN. Se tiene el cuenta el\n",
        "    post-procesamiento.\n",
        "    \"\"\"\n",
        "    model.eval() # Modo evaluacion\n",
        "    n = len(dataset)\n",
        "\n",
        "    # Cronometramos cuanto tardamos en detectar y procesar las detecciones de todas\n",
        "    # las imagenes\n",
        "    torch.cuda.synchronize()\n",
        "    start_time = time.time()\n",
        "\n",
        "    for images, _ in dataloader:\n",
        "        pred_masks = model(images)[\"out\"]\n",
        "        for pred_mask in pred_masks:\n",
        "            _ = decode_pred_mask(pred_mask[None])\n",
        "\n",
        "    torch.cuda.synchronize()\n",
        "    total_time = time.time() - start_time\n",
        "\n",
        "    # Calculamos los FPS\n",
        "    fps = n / total_time\n",
        "    print(f\"FPS: {fps:.2f}\")\n",
        "\n",
        "    return fps\n",
        "\n",
        "\n",
        "def decode_pred_mask(pred_mask):\n",
        "    \"\"\"\n",
        "    Convierte el una prediccion en una máscara (de un solo canal)\n",
        "    \"\"\"\n",
        "    decoded_mask = torch.max(pred_mask[0], 0)[1].int()\n",
        "    return decoded_mask\n",
        "\n",
        "\n",
        "@torch.no_grad()\n",
        "def measure_exact_accuracy_fcn(model, dataset, dataloader):\n",
        "    \"\"\"\n",
        "    Estima la accuracy exacta de FCN.\n",
        "    \"\"\"\n",
        "\n",
        "    model.eval() # Modo evaluacion\n",
        "\n",
        "    _n = len(val_dataloader)\n",
        "\n",
        "    # Inicializamos el numero de pixeles correctos y el total de pixeles\n",
        "    correct_pixels = 0\n",
        "    total_pixels = 640 * 640 * len(val_dataset)\n",
        "\n",
        "    # Para cada imagen, contamos el numero de pixeles correctos y los acumulamos\n",
        "    for images, masks in tqdm.tqdm(val_dataloader, total=_n):\n",
        "        pred_masks = model(images)[\"out\"]\n",
        "        for i, mask in enumerate(pred_masks):\n",
        "            decoded_pred_mask = decode_pred_mask(mask[None])\n",
        "            correct_pixels += torch.sum(decoded_pred_mask == masks[i]).item()\n",
        "\n",
        "    # Calculamos la accuracy y la imprimimos\n",
        "    accuracy = correct_pixels / total_pixels\n",
        "    print()\n",
        "    print()\n",
        "    print(f\"Accuracy: {round(accuracy, 4)}\")\n",
        "\n",
        "    return accuracy"
      ],
      "metadata": {
        "id": "_9Fx-GNoW32g"
      },
      "execution_count": null,
      "outputs": []
    },
    {
      "cell_type": "markdown",
      "source": [
        "## Datos"
      ],
      "metadata": {
        "id": "1bez1u8VwYew"
      }
    },
    {
      "cell_type": "markdown",
      "source": [
        "Conectamos con Drive:"
      ],
      "metadata": {
        "id": "zR-SsiBbwads"
      }
    },
    {
      "cell_type": "code",
      "source": [
        "drive.mount(\"/content/drive/\")"
      ],
      "metadata": {
        "colab": {
          "base_uri": "https://localhost:8080/"
        },
        "id": "-6qpNaiuIi9i",
        "outputId": "9ff76336-beb8-4f53-fabf-8e8149e07dda"
      },
      "execution_count": null,
      "outputs": [
        {
          "output_type": "stream",
          "name": "stdout",
          "text": [
            "Mounted at /content/drive/\n"
          ]
        }
      ]
    },
    {
      "cell_type": "markdown",
      "source": [
        "Extraemos los datos:"
      ],
      "metadata": {
        "id": "JsmqcIXqwhsU"
      }
    },
    {
      "cell_type": "code",
      "source": [
        "zip_path = \"/content/drive/MyDrive/tfg/datasets/valid_semantic_segmentation_dataset.zip\"\n",
        "extract_path = \"/content/\"\n",
        "!unzip -q \"$zip_path\" -d \"$extract_path\""
      ],
      "metadata": {
        "id": "c4162IMzJgwO"
      },
      "execution_count": null,
      "outputs": []
    },
    {
      "cell_type": "markdown",
      "source": [
        "Exploramos las etiquetas:"
      ],
      "metadata": {
        "id": "oX-42jpkwlS2"
      }
    },
    {
      "cell_type": "code",
      "source": [
        "labels = pd.read_csv(\"/content/semantic_segmentation_dataset/train/_classes.csv\")\n",
        "labels"
      ],
      "metadata": {
        "colab": {
          "base_uri": "https://localhost:8080/",
          "height": 331
        },
        "id": "VAJqCP_lJbFW",
        "outputId": "d79390de-37b5-4831-c28c-ae3ec99af029"
      },
      "execution_count": null,
      "outputs": [
        {
          "output_type": "execute_result",
          "data": {
            "text/plain": [
              "   Pixel Value         Class\n",
              "0            0    background\n",
              "1            1   RU_airforce\n",
              "2            2       RU_army\n",
              "3            3    RU_marines\n",
              "4            4       RU_navy\n",
              "5            5   US_airforce\n",
              "6            6       US_army\n",
              "7            7    US_marines\n",
              "8            8       US_navy"
            ],
            "text/html": [
              "\n",
              "  <div id=\"df-27db4e9a-0b31-4cf0-af15-b31db51b5b4f\" class=\"colab-df-container\">\n",
              "    <div>\n",
              "<style scoped>\n",
              "    .dataframe tbody tr th:only-of-type {\n",
              "        vertical-align: middle;\n",
              "    }\n",
              "\n",
              "    .dataframe tbody tr th {\n",
              "        vertical-align: top;\n",
              "    }\n",
              "\n",
              "    .dataframe thead th {\n",
              "        text-align: right;\n",
              "    }\n",
              "</style>\n",
              "<table border=\"1\" class=\"dataframe\">\n",
              "  <thead>\n",
              "    <tr style=\"text-align: right;\">\n",
              "      <th></th>\n",
              "      <th>Pixel Value</th>\n",
              "      <th>Class</th>\n",
              "    </tr>\n",
              "  </thead>\n",
              "  <tbody>\n",
              "    <tr>\n",
              "      <th>0</th>\n",
              "      <td>0</td>\n",
              "      <td>background</td>\n",
              "    </tr>\n",
              "    <tr>\n",
              "      <th>1</th>\n",
              "      <td>1</td>\n",
              "      <td>RU_airforce</td>\n",
              "    </tr>\n",
              "    <tr>\n",
              "      <th>2</th>\n",
              "      <td>2</td>\n",
              "      <td>RU_army</td>\n",
              "    </tr>\n",
              "    <tr>\n",
              "      <th>3</th>\n",
              "      <td>3</td>\n",
              "      <td>RU_marines</td>\n",
              "    </tr>\n",
              "    <tr>\n",
              "      <th>4</th>\n",
              "      <td>4</td>\n",
              "      <td>RU_navy</td>\n",
              "    </tr>\n",
              "    <tr>\n",
              "      <th>5</th>\n",
              "      <td>5</td>\n",
              "      <td>US_airforce</td>\n",
              "    </tr>\n",
              "    <tr>\n",
              "      <th>6</th>\n",
              "      <td>6</td>\n",
              "      <td>US_army</td>\n",
              "    </tr>\n",
              "    <tr>\n",
              "      <th>7</th>\n",
              "      <td>7</td>\n",
              "      <td>US_marines</td>\n",
              "    </tr>\n",
              "    <tr>\n",
              "      <th>8</th>\n",
              "      <td>8</td>\n",
              "      <td>US_navy</td>\n",
              "    </tr>\n",
              "  </tbody>\n",
              "</table>\n",
              "</div>\n",
              "    <div class=\"colab-df-buttons\">\n",
              "\n",
              "  <div class=\"colab-df-container\">\n",
              "    <button class=\"colab-df-convert\" onclick=\"convertToInteractive('df-27db4e9a-0b31-4cf0-af15-b31db51b5b4f')\"\n",
              "            title=\"Convert this dataframe to an interactive table.\"\n",
              "            style=\"display:none;\">\n",
              "\n",
              "  <svg xmlns=\"http://www.w3.org/2000/svg\" height=\"24px\" viewBox=\"0 -960 960 960\">\n",
              "    <path d=\"M120-120v-720h720v720H120Zm60-500h600v-160H180v160Zm220 220h160v-160H400v160Zm0 220h160v-160H400v160ZM180-400h160v-160H180v160Zm440 0h160v-160H620v160ZM180-180h160v-160H180v160Zm440 0h160v-160H620v160Z\"/>\n",
              "  </svg>\n",
              "    </button>\n",
              "\n",
              "  <style>\n",
              "    .colab-df-container {\n",
              "      display:flex;\n",
              "      gap: 12px;\n",
              "    }\n",
              "\n",
              "    .colab-df-convert {\n",
              "      background-color: #E8F0FE;\n",
              "      border: none;\n",
              "      border-radius: 50%;\n",
              "      cursor: pointer;\n",
              "      display: none;\n",
              "      fill: #1967D2;\n",
              "      height: 32px;\n",
              "      padding: 0 0 0 0;\n",
              "      width: 32px;\n",
              "    }\n",
              "\n",
              "    .colab-df-convert:hover {\n",
              "      background-color: #E2EBFA;\n",
              "      box-shadow: 0px 1px 2px rgba(60, 64, 67, 0.3), 0px 1px 3px 1px rgba(60, 64, 67, 0.15);\n",
              "      fill: #174EA6;\n",
              "    }\n",
              "\n",
              "    .colab-df-buttons div {\n",
              "      margin-bottom: 4px;\n",
              "    }\n",
              "\n",
              "    [theme=dark] .colab-df-convert {\n",
              "      background-color: #3B4455;\n",
              "      fill: #D2E3FC;\n",
              "    }\n",
              "\n",
              "    [theme=dark] .colab-df-convert:hover {\n",
              "      background-color: #434B5C;\n",
              "      box-shadow: 0px 1px 3px 1px rgba(0, 0, 0, 0.15);\n",
              "      filter: drop-shadow(0px 1px 2px rgba(0, 0, 0, 0.3));\n",
              "      fill: #FFFFFF;\n",
              "    }\n",
              "  </style>\n",
              "\n",
              "    <script>\n",
              "      const buttonEl =\n",
              "        document.querySelector('#df-27db4e9a-0b31-4cf0-af15-b31db51b5b4f button.colab-df-convert');\n",
              "      buttonEl.style.display =\n",
              "        google.colab.kernel.accessAllowed ? 'block' : 'none';\n",
              "\n",
              "      async function convertToInteractive(key) {\n",
              "        const element = document.querySelector('#df-27db4e9a-0b31-4cf0-af15-b31db51b5b4f');\n",
              "        const dataTable =\n",
              "          await google.colab.kernel.invokeFunction('convertToInteractive',\n",
              "                                                    [key], {});\n",
              "        if (!dataTable) return;\n",
              "\n",
              "        const docLinkHtml = 'Like what you see? Visit the ' +\n",
              "          '<a target=\"_blank\" href=https://colab.research.google.com/notebooks/data_table.ipynb>data table notebook</a>'\n",
              "          + ' to learn more about interactive tables.';\n",
              "        element.innerHTML = '';\n",
              "        dataTable['output_type'] = 'display_data';\n",
              "        await google.colab.output.renderOutput(dataTable, element);\n",
              "        const docLink = document.createElement('div');\n",
              "        docLink.innerHTML = docLinkHtml;\n",
              "        element.appendChild(docLink);\n",
              "      }\n",
              "    </script>\n",
              "  </div>\n",
              "\n",
              "\n",
              "    <div id=\"df-014562fd-9920-45e5-a72b-ee7ec3dc73a9\">\n",
              "      <button class=\"colab-df-quickchart\" onclick=\"quickchart('df-014562fd-9920-45e5-a72b-ee7ec3dc73a9')\"\n",
              "                title=\"Suggest charts\"\n",
              "                style=\"display:none;\">\n",
              "\n",
              "<svg xmlns=\"http://www.w3.org/2000/svg\" height=\"24px\"viewBox=\"0 0 24 24\"\n",
              "     width=\"24px\">\n",
              "    <g>\n",
              "        <path d=\"M19 3H5c-1.1 0-2 .9-2 2v14c0 1.1.9 2 2 2h14c1.1 0 2-.9 2-2V5c0-1.1-.9-2-2-2zM9 17H7v-7h2v7zm4 0h-2V7h2v10zm4 0h-2v-4h2v4z\"/>\n",
              "    </g>\n",
              "</svg>\n",
              "      </button>\n",
              "\n",
              "<style>\n",
              "  .colab-df-quickchart {\n",
              "      --bg-color: #E8F0FE;\n",
              "      --fill-color: #1967D2;\n",
              "      --hover-bg-color: #E2EBFA;\n",
              "      --hover-fill-color: #174EA6;\n",
              "      --disabled-fill-color: #AAA;\n",
              "      --disabled-bg-color: #DDD;\n",
              "  }\n",
              "\n",
              "  [theme=dark] .colab-df-quickchart {\n",
              "      --bg-color: #3B4455;\n",
              "      --fill-color: #D2E3FC;\n",
              "      --hover-bg-color: #434B5C;\n",
              "      --hover-fill-color: #FFFFFF;\n",
              "      --disabled-bg-color: #3B4455;\n",
              "      --disabled-fill-color: #666;\n",
              "  }\n",
              "\n",
              "  .colab-df-quickchart {\n",
              "    background-color: var(--bg-color);\n",
              "    border: none;\n",
              "    border-radius: 50%;\n",
              "    cursor: pointer;\n",
              "    display: none;\n",
              "    fill: var(--fill-color);\n",
              "    height: 32px;\n",
              "    padding: 0;\n",
              "    width: 32px;\n",
              "  }\n",
              "\n",
              "  .colab-df-quickchart:hover {\n",
              "    background-color: var(--hover-bg-color);\n",
              "    box-shadow: 0 1px 2px rgba(60, 64, 67, 0.3), 0 1px 3px 1px rgba(60, 64, 67, 0.15);\n",
              "    fill: var(--button-hover-fill-color);\n",
              "  }\n",
              "\n",
              "  .colab-df-quickchart-complete:disabled,\n",
              "  .colab-df-quickchart-complete:disabled:hover {\n",
              "    background-color: var(--disabled-bg-color);\n",
              "    fill: var(--disabled-fill-color);\n",
              "    box-shadow: none;\n",
              "  }\n",
              "\n",
              "  .colab-df-spinner {\n",
              "    border: 2px solid var(--fill-color);\n",
              "    border-color: transparent;\n",
              "    border-bottom-color: var(--fill-color);\n",
              "    animation:\n",
              "      spin 1s steps(1) infinite;\n",
              "  }\n",
              "\n",
              "  @keyframes spin {\n",
              "    0% {\n",
              "      border-color: transparent;\n",
              "      border-bottom-color: var(--fill-color);\n",
              "      border-left-color: var(--fill-color);\n",
              "    }\n",
              "    20% {\n",
              "      border-color: transparent;\n",
              "      border-left-color: var(--fill-color);\n",
              "      border-top-color: var(--fill-color);\n",
              "    }\n",
              "    30% {\n",
              "      border-color: transparent;\n",
              "      border-left-color: var(--fill-color);\n",
              "      border-top-color: var(--fill-color);\n",
              "      border-right-color: var(--fill-color);\n",
              "    }\n",
              "    40% {\n",
              "      border-color: transparent;\n",
              "      border-right-color: var(--fill-color);\n",
              "      border-top-color: var(--fill-color);\n",
              "    }\n",
              "    60% {\n",
              "      border-color: transparent;\n",
              "      border-right-color: var(--fill-color);\n",
              "    }\n",
              "    80% {\n",
              "      border-color: transparent;\n",
              "      border-right-color: var(--fill-color);\n",
              "      border-bottom-color: var(--fill-color);\n",
              "    }\n",
              "    90% {\n",
              "      border-color: transparent;\n",
              "      border-bottom-color: var(--fill-color);\n",
              "    }\n",
              "  }\n",
              "</style>\n",
              "\n",
              "      <script>\n",
              "        async function quickchart(key) {\n",
              "          const quickchartButtonEl =\n",
              "            document.querySelector('#' + key + ' button');\n",
              "          quickchartButtonEl.disabled = true;  // To prevent multiple clicks.\n",
              "          quickchartButtonEl.classList.add('colab-df-spinner');\n",
              "          try {\n",
              "            const charts = await google.colab.kernel.invokeFunction(\n",
              "                'suggestCharts', [key], {});\n",
              "          } catch (error) {\n",
              "            console.error('Error during call to suggestCharts:', error);\n",
              "          }\n",
              "          quickchartButtonEl.classList.remove('colab-df-spinner');\n",
              "          quickchartButtonEl.classList.add('colab-df-quickchart-complete');\n",
              "        }\n",
              "        (() => {\n",
              "          let quickchartButtonEl =\n",
              "            document.querySelector('#df-014562fd-9920-45e5-a72b-ee7ec3dc73a9 button');\n",
              "          quickchartButtonEl.style.display =\n",
              "            google.colab.kernel.accessAllowed ? 'block' : 'none';\n",
              "        })();\n",
              "      </script>\n",
              "    </div>\n",
              "\n",
              "  <div id=\"id_bcb5a012-2dd6-4e8a-bcdf-747a9fb462f7\">\n",
              "    <style>\n",
              "      .colab-df-generate {\n",
              "        background-color: #E8F0FE;\n",
              "        border: none;\n",
              "        border-radius: 50%;\n",
              "        cursor: pointer;\n",
              "        display: none;\n",
              "        fill: #1967D2;\n",
              "        height: 32px;\n",
              "        padding: 0 0 0 0;\n",
              "        width: 32px;\n",
              "      }\n",
              "\n",
              "      .colab-df-generate:hover {\n",
              "        background-color: #E2EBFA;\n",
              "        box-shadow: 0px 1px 2px rgba(60, 64, 67, 0.3), 0px 1px 3px 1px rgba(60, 64, 67, 0.15);\n",
              "        fill: #174EA6;\n",
              "      }\n",
              "\n",
              "      [theme=dark] .colab-df-generate {\n",
              "        background-color: #3B4455;\n",
              "        fill: #D2E3FC;\n",
              "      }\n",
              "\n",
              "      [theme=dark] .colab-df-generate:hover {\n",
              "        background-color: #434B5C;\n",
              "        box-shadow: 0px 1px 3px 1px rgba(0, 0, 0, 0.15);\n",
              "        filter: drop-shadow(0px 1px 2px rgba(0, 0, 0, 0.3));\n",
              "        fill: #FFFFFF;\n",
              "      }\n",
              "    </style>\n",
              "    <button class=\"colab-df-generate\" onclick=\"generateWithVariable('labels')\"\n",
              "            title=\"Generate code using this dataframe.\"\n",
              "            style=\"display:none;\">\n",
              "\n",
              "  <svg xmlns=\"http://www.w3.org/2000/svg\" height=\"24px\"viewBox=\"0 0 24 24\"\n",
              "       width=\"24px\">\n",
              "    <path d=\"M7,19H8.4L18.45,9,17,7.55,7,17.6ZM5,21V16.75L18.45,3.32a2,2,0,0,1,2.83,0l1.4,1.43a1.91,1.91,0,0,1,.58,1.4,1.91,1.91,0,0,1-.58,1.4L9.25,21ZM18.45,9,17,7.55Zm-12,3A5.31,5.31,0,0,0,4.9,8.1,5.31,5.31,0,0,0,1,6.5,5.31,5.31,0,0,0,4.9,4.9,5.31,5.31,0,0,0,6.5,1,5.31,5.31,0,0,0,8.1,4.9,5.31,5.31,0,0,0,12,6.5,5.46,5.46,0,0,0,6.5,12Z\"/>\n",
              "  </svg>\n",
              "    </button>\n",
              "    <script>\n",
              "      (() => {\n",
              "      const buttonEl =\n",
              "        document.querySelector('#id_bcb5a012-2dd6-4e8a-bcdf-747a9fb462f7 button.colab-df-generate');\n",
              "      buttonEl.style.display =\n",
              "        google.colab.kernel.accessAllowed ? 'block' : 'none';\n",
              "\n",
              "      buttonEl.onclick = () => {\n",
              "        google.colab.notebook.generateWithVariable('labels');\n",
              "      }\n",
              "      })();\n",
              "    </script>\n",
              "  </div>\n",
              "\n",
              "    </div>\n",
              "  </div>\n"
            ],
            "application/vnd.google.colaboratory.intrinsic+json": {
              "type": "dataframe",
              "variable_name": "labels",
              "summary": "{\n  \"name\": \"labels\",\n  \"rows\": 9,\n  \"fields\": [\n    {\n      \"column\": \"Pixel Value\",\n      \"properties\": {\n        \"dtype\": \"number\",\n        \"std\": 2,\n        \"min\": 0,\n        \"max\": 8,\n        \"num_unique_values\": 9,\n        \"samples\": [\n          7,\n          1,\n          5\n        ],\n        \"semantic_type\": \"\",\n        \"description\": \"\"\n      }\n    },\n    {\n      \"column\": \" Class\",\n      \"properties\": {\n        \"dtype\": \"string\",\n        \"num_unique_values\": 9,\n        \"samples\": [\n          \" US_marines\",\n          \" RU_airforce\",\n          \" US_airforce\"\n        ],\n        \"semantic_type\": \"\",\n        \"description\": \"\"\n      }\n    }\n  ]\n}"
            }
          },
          "metadata": {},
          "execution_count": 8
        }
      ]
    },
    {
      "cell_type": "markdown",
      "source": [
        "Preparamos nuestro codificador de etiquetas:"
      ],
      "metadata": {
        "id": "bVB0BEfy04p1"
      }
    },
    {
      "cell_type": "code",
      "source": [
        "label_encoder = LabelEncoder()\n",
        "label_encoder.fit(labels[\" Class\"])\n",
        "label_encoder.classes_"
      ],
      "metadata": {
        "colab": {
          "base_uri": "https://localhost:8080/"
        },
        "id": "2p0JQG6Z0qf-",
        "outputId": "d18c9356-8e0b-4741-c2b2-e6ebeae223bd"
      },
      "execution_count": null,
      "outputs": [
        {
          "output_type": "execute_result",
          "data": {
            "text/plain": [
              "array([' RU_airforce', ' RU_army', ' RU_marines', ' RU_navy',\n",
              "       ' US_airforce', ' US_army', ' US_marines', ' US_navy',\n",
              "       ' background'], dtype=object)"
            ]
          },
          "metadata": {},
          "execution_count": 9
        }
      ]
    },
    {
      "cell_type": "markdown",
      "source": [
        "Definimos la transformación que utilizamos en los modelos pre-entrenados de pytorch:"
      ],
      "metadata": {
        "id": "jSU-GqwWw_k_"
      }
    },
    {
      "cell_type": "code",
      "source": [
        "STANDARD_TRANSFORM = transforms.Compose([\n",
        "    transforms.ToPILImage(),\n",
        "    transforms.Resize((640, 640)),\n",
        "    transforms.ToTensor(),\n",
        "    transforms.Normalize([0.485, 0.456, 0.406], [0.229, 0.224, 0.225])\n",
        "])"
      ],
      "metadata": {
        "id": "wl9lu85gQv58"
      },
      "execution_count": null,
      "outputs": []
    },
    {
      "cell_type": "markdown",
      "source": [
        "Definimos la clase de nuestro dataset de segmentación:"
      ],
      "metadata": {
        "id": "AWdU78PLzMNz"
      }
    },
    {
      "cell_type": "code",
      "source": [
        "class FriendFoeSegmentationDataset(Dataset):\n",
        "    def __init__(self, folder_path, transform=None):\n",
        "        self.images = glob(f\"{folder_path}/*.jpg\")\n",
        "        self.transform = transform\n",
        "\n",
        "    def __len__(self):\n",
        "        return len(self.images)\n",
        "\n",
        "    def __getitem__(self, ix):\n",
        "\n",
        "        image = cv2.imread(self.images[ix])\n",
        "        image = cv2.cvtColor(image, cv2.COLOR_BGR2RGB)\n",
        "        mask_path = self.images[ix][:-4] + \"_mask.png\"\n",
        "        mask = cv2.imread(mask_path)\n",
        "        mask = mask[:, :, 0]\n",
        "        return image, mask\n",
        "\n",
        "    def choose(self): return self[np.randint(len(self))]\n",
        "\n",
        "    def collate_fn(self, batch):\n",
        "        images, masks = list(zip(*batch))\n",
        "\n",
        "        if self.transform:\n",
        "            images = [self.transform(image)[None] for image in images]\n",
        "\n",
        "\n",
        "        images = torch.cat(images, dim=0).float().to(DEVICE)\n",
        "        masks = torch.cat([torch.Tensor(mask[None]) for mask in masks]).long().to(DEVICE)\n",
        "        return images, masks"
      ],
      "metadata": {
        "id": "ssKrtnDcLh4H"
      },
      "execution_count": null,
      "outputs": []
    },
    {
      "cell_type": "markdown",
      "source": [
        "Instanciamos la clase para nuestros subconjuntos y creamos los dataloaders:"
      ],
      "metadata": {
        "id": "4HmDPhtXzRYe"
      }
    },
    {
      "cell_type": "code",
      "source": [
        "train_dataset = FriendFoeSegmentationDataset(\n",
        "    folder_path=\"/content/semantic_segmentation_dataset/train/\",\n",
        "    transform=STANDARD_TRANSFORM\n",
        ")\n",
        "train_dataloader = DataLoader(train_dataset, batch_size=16,\n",
        "                              collate_fn=train_dataset.collate_fn,\n",
        "                              shuffle=True)\n",
        "\n",
        "val_dataset = FriendFoeSegmentationDataset(\n",
        "    folder_path=\"/content/semantic_segmentation_dataset/valid/\",\n",
        "    transform=STANDARD_TRANSFORM\n",
        ")\n",
        "val_dataloader = DataLoader(val_dataset, batch_size=16,\n",
        "                            collate_fn=val_dataset.collate_fn,\n",
        "                            shuffle=True)\n",
        "\n",
        "test_dataset = FriendFoeSegmentationDataset(\n",
        "    folder_path=\"/content/semantic_segmentation_dataset/test/\",\n",
        "    transform=STANDARD_TRANSFORM\n",
        ")\n",
        "test_dataloader = DataLoader(test_dataset, batch_size=16,\n",
        "                             collate_fn=test_dataset.collate_fn,\n",
        "                             shuffle=True)"
      ],
      "metadata": {
        "id": "2urJUiOORJYw"
      },
      "execution_count": null,
      "outputs": []
    },
    {
      "cell_type": "markdown",
      "source": [
        "## Modelo"
      ],
      "metadata": {
        "id": "DOtVWkPRza4e"
      }
    },
    {
      "cell_type": "code",
      "source": [
        "model = models.segmentation.fcn_resnet50(weights=models.segmentation.FCN_ResNet50_Weights.DEFAULT)\n",
        "summary(model,  input_size=(1, 3, 224, 224))"
      ],
      "metadata": {
        "colab": {
          "base_uri": "https://localhost:8080/"
        },
        "id": "K5J6MvdQrUfL",
        "outputId": "3175e0c4-9a5e-4b9a-8256-508c41dc8307"
      },
      "execution_count": null,
      "outputs": [
        {
          "output_type": "stream",
          "name": "stderr",
          "text": [
            "Downloading: \"https://download.pytorch.org/models/fcn_resnet50_coco-1167a1af.pth\" to /root/.cache/torch/hub/checkpoints/fcn_resnet50_coco-1167a1af.pth\n",
            "100%|██████████| 135M/135M [00:00<00:00, 223MB/s]\n"
          ]
        },
        {
          "output_type": "execute_result",
          "data": {
            "text/plain": [
              "===============================================================================================\n",
              "Layer (type:depth-idx)                        Output Shape              Param #\n",
              "===============================================================================================\n",
              "FCN                                           [1, 21, 224, 224]         --\n",
              "├─IntermediateLayerGetter: 1-1                [1, 2048, 28, 28]         --\n",
              "│    └─Conv2d: 2-1                            [1, 64, 112, 112]         9,408\n",
              "│    └─BatchNorm2d: 2-2                       [1, 64, 112, 112]         128\n",
              "│    └─ReLU: 2-3                              [1, 64, 112, 112]         --\n",
              "│    └─MaxPool2d: 2-4                         [1, 64, 56, 56]           --\n",
              "│    └─Sequential: 2-5                        [1, 256, 56, 56]          --\n",
              "│    │    └─Bottleneck: 3-1                   [1, 256, 56, 56]          75,008\n",
              "│    │    └─Bottleneck: 3-2                   [1, 256, 56, 56]          70,400\n",
              "│    │    └─Bottleneck: 3-3                   [1, 256, 56, 56]          70,400\n",
              "│    └─Sequential: 2-6                        [1, 512, 28, 28]          --\n",
              "│    │    └─Bottleneck: 3-4                   [1, 512, 28, 28]          379,392\n",
              "│    │    └─Bottleneck: 3-5                   [1, 512, 28, 28]          280,064\n",
              "│    │    └─Bottleneck: 3-6                   [1, 512, 28, 28]          280,064\n",
              "│    │    └─Bottleneck: 3-7                   [1, 512, 28, 28]          280,064\n",
              "│    └─Sequential: 2-7                        [1, 1024, 28, 28]         --\n",
              "│    │    └─Bottleneck: 3-8                   [1, 1024, 28, 28]         1,512,448\n",
              "│    │    └─Bottleneck: 3-9                   [1, 1024, 28, 28]         1,117,184\n",
              "│    │    └─Bottleneck: 3-10                  [1, 1024, 28, 28]         1,117,184\n",
              "│    │    └─Bottleneck: 3-11                  [1, 1024, 28, 28]         1,117,184\n",
              "│    │    └─Bottleneck: 3-12                  [1, 1024, 28, 28]         1,117,184\n",
              "│    │    └─Bottleneck: 3-13                  [1, 1024, 28, 28]         1,117,184\n",
              "│    └─Sequential: 2-8                        [1, 2048, 28, 28]         --\n",
              "│    │    └─Bottleneck: 3-14                  [1, 2048, 28, 28]         6,039,552\n",
              "│    │    └─Bottleneck: 3-15                  [1, 2048, 28, 28]         4,462,592\n",
              "│    │    └─Bottleneck: 3-16                  [1, 2048, 28, 28]         4,462,592\n",
              "├─FCNHead: 1-2                                [1, 21, 28, 28]           --\n",
              "│    └─Conv2d: 2-9                            [1, 512, 28, 28]          9,437,184\n",
              "│    └─BatchNorm2d: 2-10                      [1, 512, 28, 28]          1,024\n",
              "│    └─ReLU: 2-11                             [1, 512, 28, 28]          --\n",
              "│    └─Dropout: 2-12                          [1, 512, 28, 28]          --\n",
              "│    └─Conv2d: 2-13                           [1, 21, 28, 28]           10,773\n",
              "├─FCNHead: 1-3                                [1, 21, 28, 28]           --\n",
              "│    └─Conv2d: 2-14                           [1, 256, 28, 28]          2,359,296\n",
              "│    └─BatchNorm2d: 2-15                      [1, 256, 28, 28]          512\n",
              "│    └─ReLU: 2-16                             [1, 256, 28, 28]          --\n",
              "│    └─Dropout: 2-17                          [1, 256, 28, 28]          --\n",
              "│    └─Conv2d: 2-18                           [1, 21, 28, 28]           5,397\n",
              "===============================================================================================\n",
              "Total params: 35,322,218\n",
              "Trainable params: 35,322,218\n",
              "Non-trainable params: 0\n",
              "Total mult-adds (Units.GIGABYTES): 28.34\n",
              "===============================================================================================\n",
              "Input size (MB): 0.60\n",
              "Forward/backward pass size (MB): 412.91\n",
              "Params size (MB): 141.29\n",
              "Estimated Total Size (MB): 554.80\n",
              "==============================================================================================="
            ]
          },
          "metadata": {},
          "execution_count": 14
        }
      ]
    },
    {
      "cell_type": "markdown",
      "source": [
        "Vemos que el classificador y el classificador auxiliar, utilizado durante el entrenamiento, son cabezas de tipo FCN:"
      ],
      "metadata": {
        "id": "iHGADepr5XMb"
      }
    },
    {
      "cell_type": "code",
      "source": [
        "model.classifier"
      ],
      "metadata": {
        "colab": {
          "base_uri": "https://localhost:8080/"
        },
        "id": "oIk1Zds5sdIc",
        "outputId": "51c03e7e-161c-4e6d-930b-264932a73a29"
      },
      "execution_count": null,
      "outputs": [
        {
          "output_type": "execute_result",
          "data": {
            "text/plain": [
              "FCNHead(\n",
              "  (0): Conv2d(2048, 512, kernel_size=(3, 3), stride=(1, 1), padding=(1, 1), bias=False)\n",
              "  (1): BatchNorm2d(512, eps=1e-05, momentum=0.1, affine=True, track_running_stats=True)\n",
              "  (2): ReLU()\n",
              "  (3): Dropout(p=0.1, inplace=False)\n",
              "  (4): Conv2d(512, 21, kernel_size=(1, 1), stride=(1, 1))\n",
              ")"
            ]
          },
          "metadata": {},
          "execution_count": 15
        }
      ]
    },
    {
      "cell_type": "code",
      "source": [
        "model.aux_classifier"
      ],
      "metadata": {
        "id": "JI3F59jsOO2p",
        "colab": {
          "base_uri": "https://localhost:8080/"
        },
        "outputId": "379b100c-c6ca-4734-ce0e-cb68583b358f"
      },
      "execution_count": null,
      "outputs": [
        {
          "output_type": "execute_result",
          "data": {
            "text/plain": [
              "FCNHead(\n",
              "  (0): Conv2d(1024, 256, kernel_size=(3, 3), stride=(1, 1), padding=(1, 1), bias=False)\n",
              "  (1): BatchNorm2d(256, eps=1e-05, momentum=0.1, affine=True, track_running_stats=True)\n",
              "  (2): ReLU()\n",
              "  (3): Dropout(p=0.1, inplace=False)\n",
              "  (4): Conv2d(256, 21, kernel_size=(1, 1), stride=(1, 1))\n",
              ")"
            ]
          },
          "metadata": {},
          "execution_count": 16
        }
      ]
    },
    {
      "cell_type": "markdown",
      "source": [
        "Creamos una funcion que nos permita crear un modelo para el número de clases elegido y nos dé también su optimizador:"
      ],
      "metadata": {
        "id": "LLsWY3s-5naO"
      }
    },
    {
      "cell_type": "code",
      "source": [
        "def get_model(num_classes):\n",
        "    \"\"\"\n",
        "    Nos permite obtener un modelo FCN listo para aplicar transfer learning\n",
        "    (con sus cabezas descongeladas) y su optimizador (Adam).\n",
        "    \"\"\"\n",
        "\n",
        "    # Obtenemos el modelo pre-entrenado\n",
        "    model = models.segmentation.fcn_resnet50(weights=models.segmentation.FCN_ResNet50_Weights.DEFAULT).to(DEVICE)\n",
        "\n",
        "    # Congelamos todos los parametros de la backbone\n",
        "    for param in model.backbone.parameters():\n",
        "        param.requires_grad = False\n",
        "\n",
        "\n",
        "    # Instanciamos un objeto de tipo FCNHead adaptado a nuestras necesidades que\n",
        "    # usamos como clasificador principal\n",
        "    model.classifier = FCNHead(\n",
        "        in_channels=model.classifier[0].in_channels,\n",
        "        channels=num_classes\n",
        "    ).to(DEVICE)\n",
        "\n",
        "    # Instanciamos un objeto de tipo FCNHead adaptado a nuestras necesidades que\n",
        "    # usamos como clasificador secundario\n",
        "    model.aux_classifier = FCNHead(\n",
        "        in_channels=model.aux_classifier[0].in_channels,\n",
        "        channels=num_classes\n",
        "    ).to(DEVICE)\n",
        "\n",
        "    # Optimizador: Adam\n",
        "    optimizer = torch.optim.Adam(model.parameters(), lr=0.0005)\n",
        "\n",
        "    return model.to(DEVICE), optimizer"
      ],
      "metadata": {
        "id": "nG4GdsTIvDf3"
      },
      "execution_count": null,
      "outputs": []
    },
    {
      "cell_type": "code",
      "source": [
        "model, _ = get_model(9)\n",
        "summary(model, input_size=(1, 3, 224, 224))"
      ],
      "metadata": {
        "colab": {
          "base_uri": "https://localhost:8080/"
        },
        "id": "y2WtFAuhTT4S",
        "outputId": "77603042-61b5-49e0-b690-d1ba132d513e"
      },
      "execution_count": null,
      "outputs": [
        {
          "output_type": "execute_result",
          "data": {
            "text/plain": [
              "===============================================================================================\n",
              "Layer (type:depth-idx)                        Output Shape              Param #\n",
              "===============================================================================================\n",
              "FCN                                           [1, 9, 224, 224]          --\n",
              "├─IntermediateLayerGetter: 1-1                [1, 2048, 28, 28]         --\n",
              "│    └─Conv2d: 2-1                            [1, 64, 112, 112]         (9,408)\n",
              "│    └─BatchNorm2d: 2-2                       [1, 64, 112, 112]         (128)\n",
              "│    └─ReLU: 2-3                              [1, 64, 112, 112]         --\n",
              "│    └─MaxPool2d: 2-4                         [1, 64, 56, 56]           --\n",
              "│    └─Sequential: 2-5                        [1, 256, 56, 56]          --\n",
              "│    │    └─Bottleneck: 3-1                   [1, 256, 56, 56]          (75,008)\n",
              "│    │    └─Bottleneck: 3-2                   [1, 256, 56, 56]          (70,400)\n",
              "│    │    └─Bottleneck: 3-3                   [1, 256, 56, 56]          (70,400)\n",
              "│    └─Sequential: 2-6                        [1, 512, 28, 28]          --\n",
              "│    │    └─Bottleneck: 3-4                   [1, 512, 28, 28]          (379,392)\n",
              "│    │    └─Bottleneck: 3-5                   [1, 512, 28, 28]          (280,064)\n",
              "│    │    └─Bottleneck: 3-6                   [1, 512, 28, 28]          (280,064)\n",
              "│    │    └─Bottleneck: 3-7                   [1, 512, 28, 28]          (280,064)\n",
              "│    └─Sequential: 2-7                        [1, 1024, 28, 28]         --\n",
              "│    │    └─Bottleneck: 3-8                   [1, 1024, 28, 28]         (1,512,448)\n",
              "│    │    └─Bottleneck: 3-9                   [1, 1024, 28, 28]         (1,117,184)\n",
              "│    │    └─Bottleneck: 3-10                  [1, 1024, 28, 28]         (1,117,184)\n",
              "│    │    └─Bottleneck: 3-11                  [1, 1024, 28, 28]         (1,117,184)\n",
              "│    │    └─Bottleneck: 3-12                  [1, 1024, 28, 28]         (1,117,184)\n",
              "│    │    └─Bottleneck: 3-13                  [1, 1024, 28, 28]         (1,117,184)\n",
              "│    └─Sequential: 2-8                        [1, 2048, 28, 28]         --\n",
              "│    │    └─Bottleneck: 3-14                  [1, 2048, 28, 28]         (6,039,552)\n",
              "│    │    └─Bottleneck: 3-15                  [1, 2048, 28, 28]         (4,462,592)\n",
              "│    │    └─Bottleneck: 3-16                  [1, 2048, 28, 28]         (4,462,592)\n",
              "├─FCNHead: 1-2                                [1, 9, 28, 28]            --\n",
              "│    └─Conv2d: 2-9                            [1, 512, 28, 28]          9,437,184\n",
              "│    └─BatchNorm2d: 2-10                      [1, 512, 28, 28]          1,024\n",
              "│    └─ReLU: 2-11                             [1, 512, 28, 28]          --\n",
              "│    └─Dropout: 2-12                          [1, 512, 28, 28]          --\n",
              "│    └─Conv2d: 2-13                           [1, 9, 28, 28]            4,617\n",
              "├─FCNHead: 1-3                                [1, 9, 28, 28]            --\n",
              "│    └─Conv2d: 2-14                           [1, 256, 28, 28]          2,359,296\n",
              "│    └─BatchNorm2d: 2-15                      [1, 256, 28, 28]          512\n",
              "│    └─ReLU: 2-16                             [1, 256, 28, 28]          --\n",
              "│    └─Dropout: 2-17                          [1, 256, 28, 28]          --\n",
              "│    └─Conv2d: 2-18                           [1, 9, 28, 28]            2,313\n",
              "===============================================================================================\n",
              "Total params: 35,312,978\n",
              "Trainable params: 11,804,946\n",
              "Non-trainable params: 23,508,032\n",
              "Total mult-adds (Units.GIGABYTES): 28.33\n",
              "===============================================================================================\n",
              "Input size (MB): 0.60\n",
              "Forward/backward pass size (MB): 412.76\n",
              "Params size (MB): 141.25\n",
              "Estimated Total Size (MB): 554.61\n",
              "==============================================================================================="
            ]
          },
          "metadata": {},
          "execution_count": 18
        }
      ]
    },
    {
      "cell_type": "markdown",
      "source": [
        "Vemos que solo tenemos 11,804,946 parámetros entrenables de los 35,312,978 originales. Entrenamos el modelo:"
      ],
      "metadata": {
        "id": "fhOzOGc5zzxr"
      }
    },
    {
      "cell_type": "markdown",
      "source": [
        "## FCN entrenada con Entropía Cruzada"
      ],
      "metadata": {
        "id": "OOGpW9CaYzI1"
      }
    },
    {
      "cell_type": "code",
      "source": [
        "model, optimizer = get_model(9)"
      ],
      "metadata": {
        "id": "OKuKI4_3Z4-o"
      },
      "execution_count": null,
      "outputs": []
    },
    {
      "cell_type": "code",
      "source": [
        "criterion = segmentation_loss\n",
        "train_losses, train_accuracies, val_losses, val_accuracies, best_model =\\\n",
        " train_model(\n",
        "    model, optimizer, train_dataloader, val_dataloader, criterion, epochs=25\n",
        ")"
      ],
      "metadata": {
        "id": "iMLjDWccTmYX",
        "colab": {
          "base_uri": "https://localhost:8080/"
        },
        "outputId": "33559ed1-a8d5-40e7-8666-674cefa3438d"
      },
      "execution_count": null,
      "outputs": [
        {
          "output_type": "stream",
          "name": "stdout",
          "text": [
            "================================================================================\n",
            "Epoch: 1 - Started: 20/04/25 11:39:00\n"
          ]
        },
        {
          "output_type": "stream",
          "name": "stderr",
          "text": [
            "- Training: 100%|██████████| 146/146 [02:14<00:00,  1.09it/s]\n",
            "- Validation: 100%|██████████| 14/14 [00:10<00:00,  1.36it/s]\n"
          ]
        },
        {
          "output_type": "stream",
          "name": "stdout",
          "text": [
            "Epoch: 1 - Ended: 20/04/25 11:41:25 - Duration: 144.76s\n",
            "\n",
            "Training Loss: 0.9060909168360984 - Validation Loss: 0.7983742015702384\n",
            "Training Accuracy: 0.6990442337238625 - Validation Accuracy: 0.722052663564682\n",
            "================================================================================\n",
            "\n",
            "================================================================================\n",
            "Epoch: 2 - Started: 20/04/25 11:41:25\n"
          ]
        },
        {
          "output_type": "stream",
          "name": "stderr",
          "text": [
            "- Training: 100%|██████████| 146/146 [02:14<00:00,  1.09it/s]\n",
            "- Validation: 100%|██████████| 14/14 [00:10<00:00,  1.35it/s]\n"
          ]
        },
        {
          "output_type": "stream",
          "name": "stdout",
          "text": [
            "Epoch: 2 - Ended: 20/04/25 11:43:49 - Duration: 144.86s\n",
            "\n",
            "Training Loss: 0.7753166989104389 - Validation Loss: 0.768943190574646\n",
            "Training Accuracy: 0.7347498058456264 - Validation Accuracy: 0.7336037158966064\n",
            "================================================================================\n",
            "\n",
            "================================================================================\n",
            "Epoch: 3 - Started: 20/04/25 11:43:49\n"
          ]
        },
        {
          "output_type": "stream",
          "name": "stderr",
          "text": [
            "- Training: 100%|██████████| 146/146 [02:14<00:00,  1.09it/s]\n",
            "- Validation: 100%|██████████| 14/14 [00:10<00:00,  1.34it/s]\n"
          ]
        },
        {
          "output_type": "stream",
          "name": "stdout",
          "text": [
            "Epoch: 3 - Ended: 20/04/25 11:46:14 - Duration: 144.65s\n",
            "\n",
            "Training Loss: 0.7341902462178713 - Validation Loss: 0.7631586704935346\n",
            "Training Accuracy: 0.7478444710986255 - Validation Accuracy: 0.7374003827571869\n",
            "================================================================================\n",
            "\n",
            "================================================================================\n",
            "Epoch: 4 - Started: 20/04/25 11:46:14\n"
          ]
        },
        {
          "output_type": "stream",
          "name": "stderr",
          "text": [
            "- Training: 100%|██████████| 146/146 [02:14<00:00,  1.08it/s]\n",
            "- Validation: 100%|██████████| 14/14 [00:10<00:00,  1.34it/s]\n"
          ]
        },
        {
          "output_type": "stream",
          "name": "stdout",
          "text": [
            "Epoch: 4 - Ended: 20/04/25 11:48:39 - Duration: 145.42s\n",
            "\n",
            "Training Loss: 0.711263579660899 - Validation Loss: 0.7413398325443268\n",
            "Training Accuracy: 0.7549882171905204 - Validation Accuracy: 0.7460158680166517\n",
            "================================================================================\n",
            "\n",
            "================================================================================\n",
            "Epoch: 5 - Started: 20/04/25 11:48:39\n"
          ]
        },
        {
          "output_type": "stream",
          "name": "stderr",
          "text": [
            "- Training: 100%|██████████| 146/146 [02:14<00:00,  1.08it/s]\n",
            "- Validation: 100%|██████████| 14/14 [00:10<00:00,  1.34it/s]\n"
          ]
        },
        {
          "output_type": "stream",
          "name": "stdout",
          "text": [
            "Epoch: 5 - Ended: 20/04/25 11:51:05 - Duration: 145.4s\n",
            "\n",
            "Training Loss: 0.6968487652197276 - Validation Loss: 0.7282078819615501\n",
            "Training Accuracy: 0.7592291713577427 - Validation Accuracy: 0.7494340666702816\n",
            "================================================================================\n",
            "\n",
            "================================================================================\n",
            "Epoch: 6 - Started: 20/04/25 11:51:05\n"
          ]
        },
        {
          "output_type": "stream",
          "name": "stderr",
          "text": [
            "- Training: 100%|██████████| 146/146 [02:15<00:00,  1.08it/s]\n",
            "- Validation: 100%|██████████| 14/14 [00:10<00:00,  1.34it/s]\n"
          ]
        },
        {
          "output_type": "stream",
          "name": "stdout",
          "text": [
            "Epoch: 6 - Ended: 20/04/25 11:53:31 - Duration: 145.76s\n",
            "\n",
            "Training Loss: 0.6840067530331546 - Validation Loss: 0.738828352519444\n",
            "Training Accuracy: 0.7641351529180187 - Validation Accuracy: 0.7474873236247471\n",
            "================================================================================\n",
            "\n",
            "================================================================================\n",
            "Epoch: 7 - Started: 20/04/25 11:53:31\n"
          ]
        },
        {
          "output_type": "stream",
          "name": "stderr",
          "text": [
            "- Training: 100%|██████████| 146/146 [02:15<00:00,  1.08it/s]\n",
            "- Validation: 100%|██████████| 14/14 [00:10<00:00,  1.34it/s]\n"
          ]
        },
        {
          "output_type": "stream",
          "name": "stdout",
          "text": [
            "Epoch: 7 - Ended: 20/04/25 11:55:57 - Duration: 145.93s\n",
            "\n",
            "Training Loss: 0.6709340096336521 - Validation Loss: 0.7352160683700016\n",
            "Training Accuracy: 0.7693525809947759 - Validation Accuracy: 0.7440964707306453\n",
            "================================================================================\n",
            "\n",
            "================================================================================\n",
            "Epoch: 8 - Started: 20/04/25 11:55:57\n"
          ]
        },
        {
          "output_type": "stream",
          "name": "stderr",
          "text": [
            "- Training: 100%|██████████| 146/146 [02:15<00:00,  1.08it/s]\n",
            "- Validation: 100%|██████████| 14/14 [00:10<00:00,  1.34it/s]\n"
          ]
        },
        {
          "output_type": "stream",
          "name": "stdout",
          "text": [
            "Epoch: 8 - Ended: 20/04/25 11:58:22 - Duration: 145.94s\n",
            "\n",
            "Training Loss: 0.6505074564316501 - Validation Loss: 0.7231955187661308\n",
            "Training Accuracy: 0.7743331626670001 - Validation Accuracy: 0.7533450254372188\n",
            "================================================================================\n",
            "\n",
            "================================================================================\n",
            "Epoch: 9 - Started: 20/04/25 11:58:22\n"
          ]
        },
        {
          "output_type": "stream",
          "name": "stderr",
          "text": [
            "- Training: 100%|██████████| 146/146 [02:15<00:00,  1.08it/s]\n",
            "- Validation: 100%|██████████| 14/14 [00:10<00:00,  1.34it/s]\n"
          ]
        },
        {
          "output_type": "stream",
          "name": "stdout",
          "text": [
            "Epoch: 9 - Ended: 20/04/25 12:00:48 - Duration: 145.56s\n",
            "\n",
            "Training Loss: 0.6434733420610428 - Validation Loss: 0.7208553297179086\n",
            "Training Accuracy: 0.7771813893971378 - Validation Accuracy: 0.755419203213283\n",
            "================================================================================\n",
            "\n",
            "================================================================================\n",
            "Epoch: 10 - Started: 20/04/25 12:00:48\n"
          ]
        },
        {
          "output_type": "stream",
          "name": "stderr",
          "text": [
            "- Training: 100%|██████████| 146/146 [02:15<00:00,  1.08it/s]\n",
            "- Validation: 100%|██████████| 14/14 [00:10<00:00,  1.34it/s]\n"
          ]
        },
        {
          "output_type": "stream",
          "name": "stdout",
          "text": [
            "Epoch: 10 - Ended: 20/04/25 12:03:14 - Duration: 145.76s\n",
            "\n",
            "Training Loss: 0.6321889247796307 - Validation Loss: 0.7437231114932469\n",
            "Training Accuracy: 0.7808646784253317 - Validation Accuracy: 0.7442655520779746\n",
            "================================================================================\n",
            "\n",
            "================================================================================\n",
            "Epoch: 11 - Started: 20/04/25 12:03:14\n"
          ]
        },
        {
          "output_type": "stream",
          "name": "stderr",
          "text": [
            "- Training: 100%|██████████| 146/146 [02:15<00:00,  1.08it/s]\n",
            "- Validation: 100%|██████████| 14/14 [00:10<00:00,  1.34it/s]\n"
          ]
        },
        {
          "output_type": "stream",
          "name": "stdout",
          "text": [
            "Epoch: 11 - Ended: 20/04/25 12:05:40 - Duration: 145.87s\n",
            "\n",
            "Training Loss: 0.6187912207351972 - Validation Loss: 0.7296743392944336\n",
            "Training Accuracy: 0.7864572720168388 - Validation Accuracy: 0.7503135502338409\n",
            "================================================================================\n",
            "\n",
            "================================================================================\n",
            "Epoch: 12 - Started: 20/04/25 12:05:40\n"
          ]
        },
        {
          "output_type": "stream",
          "name": "stderr",
          "text": [
            "- Training: 100%|██████████| 146/146 [02:15<00:00,  1.08it/s]\n",
            "- Validation: 100%|██████████| 14/14 [00:10<00:00,  1.34it/s]\n"
          ]
        },
        {
          "output_type": "stream",
          "name": "stdout",
          "text": [
            "Epoch: 12 - Ended: 20/04/25 12:08:05 - Duration: 145.82s\n",
            "\n",
            "Training Loss: 0.6081452379896216 - Validation Loss: 0.7319493293762207\n",
            "Training Accuracy: 0.7896765384772052 - Validation Accuracy: 0.7529257493359702\n",
            "================================================================================\n",
            "\n",
            "================================================================================\n",
            "Epoch: 13 - Started: 20/04/25 12:08:05\n"
          ]
        },
        {
          "output_type": "stream",
          "name": "stderr",
          "text": [
            "- Training: 100%|██████████| 146/146 [02:15<00:00,  1.08it/s]\n",
            "- Validation: 100%|██████████| 14/14 [00:10<00:00,  1.34it/s]\n"
          ]
        },
        {
          "output_type": "stream",
          "name": "stdout",
          "text": [
            "Epoch: 13 - Ended: 20/04/25 12:10:31 - Duration: 145.75s\n",
            "\n",
            "Training Loss: 0.5965764822616969 - Validation Loss: 0.7485709765127727\n",
            "Training Accuracy: 0.7947814770757335 - Validation Accuracy: 0.7478473995413099\n",
            "================================================================================\n",
            "\n",
            "================================================================================\n",
            "Epoch: 14 - Started: 20/04/25 12:10:31\n"
          ]
        },
        {
          "output_type": "stream",
          "name": "stderr",
          "text": [
            "- Training: 100%|██████████| 146/146 [02:15<00:00,  1.08it/s]\n",
            "- Validation: 100%|██████████| 14/14 [00:10<00:00,  1.34it/s]\n"
          ]
        },
        {
          "output_type": "stream",
          "name": "stdout",
          "text": [
            "Epoch: 14 - Ended: 20/04/25 12:12:57 - Duration: 145.79s\n",
            "\n",
            "Training Loss: 0.5942441735365619 - Validation Loss: 0.7391062293733869\n",
            "Training Accuracy: 0.7953001362820195 - Validation Accuracy: 0.7503849523408073\n",
            "================================================================================\n",
            "\n",
            "================================================================================\n",
            "Epoch: 15 - Started: 20/04/25 12:12:57\n"
          ]
        },
        {
          "output_type": "stream",
          "name": "stderr",
          "text": [
            "- Training: 100%|██████████| 146/146 [02:15<00:00,  1.08it/s]\n",
            "- Validation: 100%|██████████| 14/14 [00:10<00:00,  1.34it/s]\n"
          ]
        },
        {
          "output_type": "stream",
          "name": "stdout",
          "text": [
            "Epoch: 15 - Ended: 20/04/25 12:15:23 - Duration: 146.03s\n",
            "\n",
            "Training Loss: 0.5765108988709646 - Validation Loss: 0.7513275231633868\n",
            "Training Accuracy: 0.8005945564132847 - Validation Accuracy: 0.7475288850920541\n",
            "================================================================================\n",
            "\n",
            "================================================================================\n",
            "Epoch: 16 - Started: 20/04/25 12:15:23\n"
          ]
        },
        {
          "output_type": "stream",
          "name": "stderr",
          "text": [
            "- Training: 100%|██████████| 146/146 [02:15<00:00,  1.08it/s]\n",
            "- Validation: 100%|██████████| 14/14 [00:10<00:00,  1.34it/s]\n"
          ]
        },
        {
          "output_type": "stream",
          "name": "stdout",
          "text": [
            "Epoch: 16 - Ended: 20/04/25 12:17:49 - Duration: 145.78s\n",
            "\n",
            "Training Loss: 0.5760587939660843 - Validation Loss: 0.7354093747479575\n",
            "Training Accuracy: 0.8018551836275074 - Validation Accuracy: 0.750697272164481\n",
            "================================================================================\n",
            "\n",
            "================================================================================\n",
            "Epoch: 17 - Started: 20/04/25 12:17:49\n"
          ]
        },
        {
          "output_type": "stream",
          "name": "stderr",
          "text": [
            "- Training: 100%|██████████| 146/146 [02:15<00:00,  1.08it/s]\n",
            "- Validation: 100%|██████████| 14/14 [00:10<00:00,  1.34it/s]\n"
          ]
        },
        {
          "output_type": "stream",
          "name": "stdout",
          "text": [
            "Epoch: 17 - Ended: 20/04/25 12:20:15 - Duration: 145.77s\n",
            "\n",
            "Training Loss: 0.5619128987397233 - Validation Loss: 0.7461376913956234\n",
            "Training Accuracy: 0.8066378243981975 - Validation Accuracy: 0.7485921936375755\n",
            "================================================================================\n",
            "\n",
            "================================================================================\n",
            "Epoch: 18 - Started: 20/04/25 12:20:15\n"
          ]
        },
        {
          "output_type": "stream",
          "name": "stderr",
          "text": [
            "- Training: 100%|██████████| 146/146 [02:15<00:00,  1.08it/s]\n",
            "- Validation: 100%|██████████| 14/14 [00:10<00:00,  1.35it/s]\n"
          ]
        },
        {
          "output_type": "stream",
          "name": "stdout",
          "text": [
            "Epoch: 18 - Ended: 20/04/25 12:22:40 - Duration: 145.67s\n",
            "\n",
            "Training Loss: 0.551834544294501 - Validation Loss: 0.736992882830756\n",
            "Training Accuracy: 0.8091953735645503 - Validation Accuracy: 0.7506472851548877\n",
            "================================================================================\n",
            "\n",
            "================================================================================\n",
            "Epoch: 19 - Started: 20/04/25 12:22:40\n"
          ]
        },
        {
          "output_type": "stream",
          "name": "stderr",
          "text": [
            "- Training: 100%|██████████| 146/146 [02:15<00:00,  1.08it/s]\n",
            "- Validation: 100%|██████████| 14/14 [00:10<00:00,  1.34it/s]\n"
          ]
        },
        {
          "output_type": "stream",
          "name": "stdout",
          "text": [
            "Epoch: 19 - Ended: 20/04/25 12:25:06 - Duration: 145.63s\n",
            "\n",
            "Training Loss: 0.5476389739611377 - Validation Loss: 0.7653654898915973\n",
            "Training Accuracy: 0.8108574396943393 - Validation Accuracy: 0.7452992796897888\n",
            "================================================================================\n",
            "\n",
            "================================================================================\n",
            "Epoch: 20 - Started: 20/04/25 12:25:06\n"
          ]
        },
        {
          "output_type": "stream",
          "name": "stderr",
          "text": [
            "- Training: 100%|██████████| 146/146 [02:15<00:00,  1.08it/s]\n",
            "- Validation: 100%|██████████| 14/14 [00:10<00:00,  1.34it/s]\n"
          ]
        },
        {
          "output_type": "stream",
          "name": "stdout",
          "text": [
            "Epoch: 20 - Ended: 20/04/25 12:27:32 - Duration: 145.74s\n",
            "\n",
            "Training Loss: 0.5349363041658924 - Validation Loss: 0.7460805603436061\n",
            "Training Accuracy: 0.8158123366636773 - Validation Accuracy: 0.7562400996685028\n",
            "================================================================================\n",
            "\n",
            "================================================================================\n",
            "Epoch: 21 - Started: 20/04/25 12:27:32\n"
          ]
        },
        {
          "output_type": "stream",
          "name": "stderr",
          "text": [
            "- Training: 100%|██████████| 146/146 [02:15<00:00,  1.08it/s]\n",
            "- Validation: 100%|██████████| 14/14 [00:10<00:00,  1.34it/s]\n"
          ]
        },
        {
          "output_type": "stream",
          "name": "stdout",
          "text": [
            "Epoch: 21 - Ended: 20/04/25 12:29:58 - Duration: 146.02s\n",
            "\n",
            "Training Loss: 0.5335860438134572 - Validation Loss: 0.7503459623881749\n",
            "Training Accuracy: 0.8171090495912996 - Validation Accuracy: 0.7536506567682538\n",
            "================================================================================\n",
            "\n",
            "================================================================================\n",
            "Epoch: 22 - Started: 20/04/25 12:29:58\n"
          ]
        },
        {
          "output_type": "stream",
          "name": "stderr",
          "text": [
            "- Training: 100%|██████████| 146/146 [02:15<00:00,  1.08it/s]\n",
            "- Validation: 100%|██████████| 14/14 [00:10<00:00,  1.34it/s]\n"
          ]
        },
        {
          "output_type": "stream",
          "name": "stdout",
          "text": [
            "Epoch: 22 - Ended: 20/04/25 12:32:23 - Duration: 145.84s\n",
            "\n",
            "Training Loss: 0.5272468520353918 - Validation Loss: 0.7568629256316594\n",
            "Training Accuracy: 0.8186963433272219 - Validation Accuracy: 0.7525735242026192\n",
            "================================================================================\n",
            "\n",
            "================================================================================\n",
            "Epoch: 23 - Started: 20/04/25 12:32:23\n"
          ]
        },
        {
          "output_type": "stream",
          "name": "stderr",
          "text": [
            "- Training: 100%|██████████| 146/146 [02:15<00:00,  1.08it/s]\n",
            "- Validation: 100%|██████████| 14/14 [00:10<00:00,  1.33it/s]\n"
          ]
        },
        {
          "output_type": "stream",
          "name": "stdout",
          "text": [
            "Epoch: 23 - Ended: 20/04/25 12:34:49 - Duration: 145.86s\n",
            "\n",
            "Training Loss: 0.5092264473030012 - Validation Loss: 0.7693172224930355\n",
            "Training Accuracy: 0.8256712666113083 - Validation Accuracy: 0.7440248898097447\n",
            "================================================================================\n",
            "\n",
            "================================================================================\n",
            "Epoch: 24 - Started: 20/04/25 12:34:49\n"
          ]
        },
        {
          "output_type": "stream",
          "name": "stderr",
          "text": [
            "- Training: 100%|██████████| 146/146 [02:15<00:00,  1.08it/s]\n",
            "- Validation: 100%|██████████| 14/14 [00:10<00:00,  1.34it/s]\n"
          ]
        },
        {
          "output_type": "stream",
          "name": "stdout",
          "text": [
            "Epoch: 24 - Ended: 20/04/25 12:37:15 - Duration: 145.89s\n",
            "\n",
            "Training Loss: 0.5051379607964869 - Validation Loss: 0.7603123996938977\n",
            "Training Accuracy: 0.8264981675637911 - Validation Accuracy: 0.7545266236577716\n",
            "================================================================================\n",
            "\n",
            "================================================================================\n",
            "Epoch: 25 - Started: 20/04/25 12:37:15\n"
          ]
        },
        {
          "output_type": "stream",
          "name": "stderr",
          "text": [
            "- Training: 100%|██████████| 146/146 [02:15<00:00,  1.08it/s]\n",
            "- Validation: 100%|██████████| 14/14 [00:10<00:00,  1.34it/s]"
          ]
        },
        {
          "output_type": "stream",
          "name": "stdout",
          "text": [
            "Epoch: 25 - Ended: 20/04/25 12:39:41 - Duration: 145.73s\n",
            "\n",
            "Training Loss: 0.5031977057048719 - Validation Loss: 0.7602854605231967\n",
            "Training Accuracy: 0.8270165144580685 - Validation Accuracy: 0.753237247467041\n",
            "================================================================================\n",
            "\n"
          ]
        },
        {
          "output_type": "stream",
          "name": "stderr",
          "text": [
            "\n"
          ]
        }
      ]
    },
    {
      "cell_type": "markdown",
      "source": [
        "Salvamos un checkpoint por si necesitasemos reanudar el entrenamiento:"
      ],
      "metadata": {
        "id": "AGo1DUFm0Bhl"
      }
    },
    {
      "cell_type": "code",
      "source": [
        "torch.save({\n",
        "            \"epoch\": 25,\n",
        "            \"model_state_dict\": model.state_dict(),\n",
        "            \"optimizer_state_dict\": optimizer.state_dict(),\n",
        "            \"loss\": train_losses[-1],\n",
        "            \"train_losses\": train_losses,\n",
        "            \"train_accuracies\": train_accuracies,\n",
        "            \"val_losses\": val_losses,\n",
        "            \"val_accuracies\": val_accuracies,\n",
        "            \"best_model\": best_model\n",
        "            }, \"/content/drive/MyDrive/tfg/models/fcn.pth\")"
      ],
      "metadata": {
        "id": "K6CJshezkZFC"
      },
      "execution_count": null,
      "outputs": []
    },
    {
      "cell_type": "markdown",
      "source": [
        "### Resultados"
      ],
      "metadata": {
        "id": "UV7PTbA6z-bN"
      }
    },
    {
      "cell_type": "markdown",
      "source": [
        "Representamos la pérdida y precisión en los conjuntos de entrenamiento y validación a lo largo del proceso de entrenamiento del modelo:"
      ],
      "metadata": {
        "id": "0fSU2-e20KUl"
      }
    },
    {
      "cell_type": "code",
      "source": [
        "model, _ = get_model(9)\n",
        "checkpoint = torch.load(\"/content/drive/MyDrive/tfg/models/fcn.pth\", weights_only=False)\n",
        "model.load_state_dict(checkpoint[\"best_model\"][\"model_state_dict\"])"
      ],
      "metadata": {
        "colab": {
          "base_uri": "https://localhost:8080/"
        },
        "outputId": "356c3e0b-96ab-4b91-a7e9-ada80f4ee7f8",
        "id": "8qjThSeH2Mz0"
      },
      "execution_count": null,
      "outputs": [
        {
          "output_type": "execute_result",
          "data": {
            "text/plain": [
              "<All keys matched successfully>"
            ]
          },
          "metadata": {},
          "execution_count": 21
        }
      ]
    },
    {
      "cell_type": "code",
      "source": [
        "plot_training_results(\n",
        "    checkpoint[\"train_losses\"],\n",
        "    checkpoint[\"val_losses\"],\n",
        "    checkpoint[\"train_accuracies\"],\n",
        "    checkpoint[\"val_accuracies\"],\n",
        "    \"Entrenamiento de FCN\"\n",
        ")"
      ],
      "metadata": {
        "colab": {
          "base_uri": "https://localhost:8080/",
          "height": 413
        },
        "outputId": "a050aa22-5525-453b-9f7d-5c73d959da7f",
        "id": "ZRcu2bPp2Mz6"
      },
      "execution_count": null,
      "outputs": [
        {
          "output_type": "display_data",
          "data": {
            "text/plain": [
              "<Figure size 1200x400 with 2 Axes>"
            ],
            "image/png": "[encoded data removed]"
          },
          "metadata": {}
        }
      ]
    },
    {
      "cell_type": "markdown",
      "source": [
        "Medimos su *accuracy* exacta sobre el conjunto de validación y estimamos sus FPS:"
      ],
      "metadata": {
        "id": "Zue-7Ash7FDg"
      }
    },
    {
      "cell_type": "code",
      "source": [
        "_ = measure_exact_accuracy_fcn(model, val_dataset, val_dataloader)"
      ],
      "metadata": {
        "colab": {
          "base_uri": "https://localhost:8080/"
        },
        "outputId": "eccca807-be10-4214-8b26-ba7afc0a21fc",
        "id": "efQvdaTD2Mz7"
      },
      "execution_count": null,
      "outputs": [
        {
          "output_type": "stream",
          "name": "stderr",
          "text": [
            "100%|██████████| 14/14 [00:10<00:00,  1.34it/s]"
          ]
        },
        {
          "output_type": "stream",
          "name": "stdout",
          "text": [
            "\n",
            "\n",
            "Accuracy: 0.7547\n"
          ]
        },
        {
          "output_type": "stream",
          "name": "stderr",
          "text": [
            "\n"
          ]
        }
      ]
    },
    {
      "cell_type": "code",
      "source": [
        "_ = measure_fps_fcn(model, val_dataset, val_dataloader)"
      ],
      "metadata": {
        "colab": {
          "base_uri": "https://localhost:8080/"
        },
        "outputId": "89e04886-7651-41f2-cebd-7791fd08abe1",
        "id": "ZaduYD1f2Mz9"
      },
      "execution_count": null,
      "outputs": [
        {
          "output_type": "stream",
          "name": "stdout",
          "text": [
            "FPS: 25.11\n"
          ]
        }
      ]
    },
    {
      "cell_type": "markdown",
      "source": [
        "La matriz de confusión la podemos encontrar, junto con la de U-Net, en unet.ipynb."
      ],
      "metadata": {
        "id": "NyYqpYPFaIms"
      }
    }
  ]
}